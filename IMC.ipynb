{
  "nbformat": 4,
  "nbformat_minor": 0,
  "metadata": {
    "colab": {
      "name": "IMC",
      "provenance": [],
      "authorship_tag": "ABX9TyOl488cSPdebVI69x0U6M/W",
      "include_colab_link": true
    },
    "kernelspec": {
      "name": "python3",
      "display_name": "Python 3"
    },
    "language_info": {
      "name": "python"
    }
  },
  "cells": [
    {
      "cell_type": "markdown",
      "metadata": {
        "id": "view-in-github",
        "colab_type": "text"
      },
      "source": [
        "<a href=\"https://colab.research.google.com/github/Josymar16/POE-5-1/blob/gh-pages/IMC.ipynb\" target=\"_parent\"><img src=\"https://colab.research.google.com/assets/colab-badge.svg\" alt=\"Open In Colab\"/></a>"
      ]
    },
    {
      "cell_type": "code",
      "execution_count": 1,
      "metadata": {
        "colab": {
          "base_uri": "https://localhost:8080/"
        },
        "id": "iiT4YiXg5ck4",
        "outputId": "34a6655b-79f1-47bd-d063-76ffc492a7e9"
      },
      "outputs": [
        {
          "output_type": "stream",
          "name": "stdout",
          "text": [
            "41.1764705882353\n"
          ]
        }
      ],
      "source": [
        "#Calculo de IMC (run: \"auto\", vertical-output: true)\n",
        "estatura = 1.70#@param {type: \"number\"}\n",
        "peso = 70#@param {type: \"number\"}\n",
        "print((peso)/(estatura))"
      ]
    }
  ]
}